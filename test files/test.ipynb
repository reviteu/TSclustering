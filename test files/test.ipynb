{
 "cells": [
  {
   "cell_type": "code",
   "execution_count": 29,
   "metadata": {},
   "outputs": [],
   "source": [
    "import pandas as pd\n",
    "import numpy as np\n",
    "from dtaidistance import dtw\n",
    "\n",
    "df = pd.read_excel('seasonal_index.xlsx', sheet_name = 'Query2')\n",
    "df = df.fillna(value=0)\n",
    "groups = df.groupby('Item').Seasonality.apply(np.array).reset_index()"
   ]
  },
  {
   "cell_type": "code",
   "execution_count": 30,
   "metadata": {},
   "outputs": [
    {
     "data": {
      "text/html": [
       "<div>\n",
       "<style scoped>\n",
       "    .dataframe tbody tr th:only-of-type {\n",
       "        vertical-align: middle;\n",
       "    }\n",
       "\n",
       "    .dataframe tbody tr th {\n",
       "        vertical-align: top;\n",
       "    }\n",
       "\n",
       "    .dataframe thead th {\n",
       "        text-align: right;\n",
       "    }\n",
       "</style>\n",
       "<table border=\"1\" class=\"dataframe\">\n",
       "  <thead>\n",
       "    <tr style=\"text-align: right;\">\n",
       "      <th></th>\n",
       "      <th>Item</th>\n",
       "      <th>Seasonality</th>\n",
       "    </tr>\n",
       "  </thead>\n",
       "  <tbody>\n",
       "    <tr>\n",
       "      <th>0</th>\n",
       "      <td>FAO002</td>\n",
       "      <td>[0.0, 0.0, 0.0, 0.0, 0.0, 0.0, 0.0, 0.0, 0.0, ...</td>\n",
       "    </tr>\n",
       "    <tr>\n",
       "      <th>1</th>\n",
       "      <td>FAO003</td>\n",
       "      <td>[0.0, 0.0, 0.0, 0.0, 0.0, 0.0, 0.0, 0.0, 0.0, ...</td>\n",
       "    </tr>\n",
       "    <tr>\n",
       "      <th>2</th>\n",
       "      <td>FAO004</td>\n",
       "      <td>[0.0, 0.0, 0.0, 0.0, 0.0, 0.0, 0.0, 0.0, 0.0, ...</td>\n",
       "    </tr>\n",
       "    <tr>\n",
       "      <th>3</th>\n",
       "      <td>FAO005</td>\n",
       "      <td>[0.0, 0.0, 0.0, 0.0, 0.0, 0.0, 0.0, 0.0, 0.0, ...</td>\n",
       "    </tr>\n",
       "    <tr>\n",
       "      <th>4</th>\n",
       "      <td>FAO006</td>\n",
       "      <td>[0.0, 0.0, 0.0, 0.0, 0.0, 0.0, 0.0, 0.0, 0.0, ...</td>\n",
       "    </tr>\n",
       "    <tr>\n",
       "      <th>...</th>\n",
       "      <td>...</td>\n",
       "      <td>...</td>\n",
       "    </tr>\n",
       "    <tr>\n",
       "      <th>1779</th>\n",
       "      <td>TPK001</td>\n",
       "      <td>[0.0238095238095238, 0.0158730158730159, 0.0, ...</td>\n",
       "    </tr>\n",
       "    <tr>\n",
       "      <th>1780</th>\n",
       "      <td>TPK002</td>\n",
       "      <td>[0.0166666666666667, 0.00555555555555556, 0.0,...</td>\n",
       "    </tr>\n",
       "    <tr>\n",
       "      <th>1781</th>\n",
       "      <td>TPK003</td>\n",
       "      <td>[0.0184049079754601, 0.0, 0.0, 0.0122699386503...</td>\n",
       "    </tr>\n",
       "    <tr>\n",
       "      <th>1782</th>\n",
       "      <td>TPK004</td>\n",
       "      <td>[0.0, 0.0, 0.0, 0.0, 0.0, 0.0, 0.0, 0.0, 0.0, ...</td>\n",
       "    </tr>\n",
       "    <tr>\n",
       "      <th>1783</th>\n",
       "      <td>TPV001</td>\n",
       "      <td>[0.00626959247648903, 0.0188087774294671, 0.0,...</td>\n",
       "    </tr>\n",
       "  </tbody>\n",
       "</table>\n",
       "<p>1784 rows × 2 columns</p>\n",
       "</div>"
      ],
      "text/plain": [
       "        Item                                        Seasonality\n",
       "0     FAO002  [0.0, 0.0, 0.0, 0.0, 0.0, 0.0, 0.0, 0.0, 0.0, ...\n",
       "1     FAO003  [0.0, 0.0, 0.0, 0.0, 0.0, 0.0, 0.0, 0.0, 0.0, ...\n",
       "2     FAO004  [0.0, 0.0, 0.0, 0.0, 0.0, 0.0, 0.0, 0.0, 0.0, ...\n",
       "3     FAO005  [0.0, 0.0, 0.0, 0.0, 0.0, 0.0, 0.0, 0.0, 0.0, ...\n",
       "4     FAO006  [0.0, 0.0, 0.0, 0.0, 0.0, 0.0, 0.0, 0.0, 0.0, ...\n",
       "...      ...                                                ...\n",
       "1779  TPK001  [0.0238095238095238, 0.0158730158730159, 0.0, ...\n",
       "1780  TPK002  [0.0166666666666667, 0.00555555555555556, 0.0,...\n",
       "1781  TPK003  [0.0184049079754601, 0.0, 0.0, 0.0122699386503...\n",
       "1782  TPK004  [0.0, 0.0, 0.0, 0.0, 0.0, 0.0, 0.0, 0.0, 0.0, ...\n",
       "1783  TPV001  [0.00626959247648903, 0.0188087774294671, 0.0,...\n",
       "\n",
       "[1784 rows x 2 columns]"
      ]
     },
     "execution_count": 30,
     "metadata": {},
     "output_type": "execute_result"
    }
   ],
   "source": [
    "groups"
   ]
  },
  {
   "cell_type": "code",
   "execution_count": 2,
   "metadata": {},
   "outputs": [],
   "source": [
    "timeseries = list(groups.iloc[:,1])"
   ]
  },
  {
   "cell_type": "code",
   "execution_count": 5,
   "metadata": {},
   "outputs": [],
   "source": [
    "from tslearn.clustering import TimeSeriesKMeans, silhouette_score, KernelKMeans\n",
    "from tslearn import metrics\n",
    "from IPython.core.interactiveshell import InteractiveShell\n",
    "InteractiveShell.ast_node_interactivity = \"all\"\n"
   ]
  },
  {
   "cell_type": "code",
   "execution_count": 24,
   "metadata": {},
   "outputs": [
    {
     "name": "stdout",
     "output_type": "stream",
     "text": [
      "0.096 --> 0.052 --> 0.051 --> 0.051 --> 0.051 --> 0.050 --> 0.050 --> 0.050 --> \n"
     ]
    }
   ],
   "source": [
    "km = TimeSeriesKMeans(n_clusters=2, verbose=True, random_state=55)\n",
    "y_pred = km.fit_predict(timeseries)"
   ]
  },
  {
   "cell_type": "code",
   "execution_count": 37,
   "metadata": {},
   "outputs": [],
   "source": [
    "res = list((y_pred, timeseries))"
   ]
  },
  {
   "cell_type": "code",
   "execution_count": 49,
   "metadata": {},
   "outputs": [],
   "source": [
    "groups['y_pred'] = y_pred"
   ]
  },
  {
   "cell_type": "code",
   "execution_count": 47,
   "metadata": {},
   "outputs": [
    {
     "data": {
      "text/plain": [
       "1"
      ]
     },
     "execution_count": 47,
     "metadata": {},
     "output_type": "execute_result"
    }
   ],
   "source": [
    "len([groups['y_pred']==0])"
   ]
  },
  {
   "cell_type": "code",
   "execution_count": 69,
   "metadata": {},
   "outputs": [],
   "source": [
    "zero = groups.loc[groups['y_pred'] == 0]\n",
    "one = groups.loc[groups['y_pred'] == 1]\n",
    "two = groups.loc[groups['y_pred']==2]\n",
    "three = groups.loc[groups['y_pred']==3]"
   ]
  },
  {
   "cell_type": "code",
   "execution_count": 66,
   "metadata": {},
   "outputs": [],
   "source": [
    "import matplotlib.pyplot as plt"
   ]
  },
  {
   "cell_type": "code",
   "execution_count": null,
   "metadata": {},
   "outputs": [],
   "source": [
    "for cell in three['Seasonality']:\n",
    "\n",
    "    plt.plot(cell)\n",
    "plt.savefig('three.png', dpi=100)\n",
    "plt.show()\n"
   ]
  },
  {
   "cell_type": "code",
   "execution_count": 95,
   "metadata": {},
   "outputs": [],
   "source": [
    "scores = []\n",
    "for i in range(2,10):\n",
    "    labels = np.random.randint(i, size=1784)\n",
    "    s_s = silhouette_score(timeseries, metric='dtw', random_state=42, labels=labels)\n",
    "    scores.append([i, s_s])"
   ]
  },
  {
   "cell_type": "code",
   "execution_count": 10,
   "metadata": {},
   "outputs": [
    {
     "name": "stdout",
     "output_type": "stream",
     "text": [
      "0.089 --> 0.050 --> 0.047 --> 0.046 --> 0.046 --> 0.046 --> 0.046 --> 0.046 --> \n"
     ]
    }
   ],
   "source": [
    "km = TimeSeriesKMeans(n_clusters=5, verbose=True, random_state=55)\n",
    "y_pred_km = km.fit_predict(timeseries)"
   ]
  },
  {
   "cell_type": "code",
   "execution_count": 7,
   "metadata": {},
   "outputs": [
    {
     "name": "stderr",
     "output_type": "stream",
     "text": [
      "c:\\Users\\bmohan\\.conda\\envs\\arima\\lib\\site-packages\\tslearn\\utils\\utils.py:88: UserWarning: 2-Dimensional data passed. Assuming these are 1784 1-dimensional timeseries\n",
      "  warnings.warn('2-Dimensional data passed. Assuming these are '\n",
      "[Parallel(n_jobs=-1)]: Using backend ThreadingBackend with 16 concurrent workers.\n",
      "[Parallel(n_jobs=-1)]: Done  18 tasks      | elapsed:    0.0s\n",
      "[Parallel(n_jobs=-1)]: Done 168 tasks      | elapsed:    0.0s\n",
      "[Parallel(n_jobs=-1)]: Done 418 tasks      | elapsed:    0.1s\n",
      "[Parallel(n_jobs=-1)]: Done 768 tasks      | elapsed:    0.2s\n",
      "[Parallel(n_jobs=-1)]: Done 1218 tasks      | elapsed:    0.4s\n",
      "[Parallel(n_jobs=-1)]: Done 1768 tasks      | elapsed:    0.6s\n",
      "[Parallel(n_jobs=-1)]: Done 2418 tasks      | elapsed:    0.8s\n",
      "[Parallel(n_jobs=-1)]: Done 3168 tasks      | elapsed:    1.0s\n",
      "[Parallel(n_jobs=-1)]: Done 4018 tasks      | elapsed:    1.2s\n",
      "[Parallel(n_jobs=-1)]: Done 4968 tasks      | elapsed:    1.5s\n",
      "[Parallel(n_jobs=-1)]: Done 6018 tasks      | elapsed:    1.9s\n",
      "[Parallel(n_jobs=-1)]: Done 7168 tasks      | elapsed:    2.2s\n",
      "[Parallel(n_jobs=-1)]: Done 8418 tasks      | elapsed:    2.6s\n",
      "[Parallel(n_jobs=-1)]: Done 9768 tasks      | elapsed:    3.0s\n",
      "[Parallel(n_jobs=-1)]: Done 11218 tasks      | elapsed:    3.4s\n",
      "[Parallel(n_jobs=-1)]: Done 12768 tasks      | elapsed:    3.9s\n",
      "[Parallel(n_jobs=-1)]: Done 14418 tasks      | elapsed:    4.3s\n",
      "[Parallel(n_jobs=-1)]: Done 16168 tasks      | elapsed:    4.8s\n",
      "[Parallel(n_jobs=-1)]: Done 18018 tasks      | elapsed:    5.4s\n",
      "[Parallel(n_jobs=-1)]: Done 19968 tasks      | elapsed:    6.0s\n",
      "[Parallel(n_jobs=-1)]: Done 22018 tasks      | elapsed:    6.6s\n",
      "[Parallel(n_jobs=-1)]: Done 24168 tasks      | elapsed:    7.2s\n",
      "[Parallel(n_jobs=-1)]: Done 26418 tasks      | elapsed:    8.0s\n",
      "[Parallel(n_jobs=-1)]: Done 28768 tasks      | elapsed:    8.7s\n",
      "[Parallel(n_jobs=-1)]: Done 31218 tasks      | elapsed:    9.5s\n",
      "[Parallel(n_jobs=-1)]: Done 33768 tasks      | elapsed:   10.4s\n",
      "[Parallel(n_jobs=-1)]: Done 36418 tasks      | elapsed:   11.2s\n",
      "[Parallel(n_jobs=-1)]: Done 39168 tasks      | elapsed:   12.1s\n",
      "[Parallel(n_jobs=-1)]: Done 42018 tasks      | elapsed:   12.9s\n",
      "[Parallel(n_jobs=-1)]: Done 44968 tasks      | elapsed:   13.7s\n",
      "[Parallel(n_jobs=-1)]: Done 48018 tasks      | elapsed:   14.6s\n",
      "[Parallel(n_jobs=-1)]: Done 51168 tasks      | elapsed:   15.5s\n",
      "[Parallel(n_jobs=-1)]: Done 54418 tasks      | elapsed:   16.4s\n",
      "[Parallel(n_jobs=-1)]: Done 57768 tasks      | elapsed:   17.4s\n",
      "[Parallel(n_jobs=-1)]: Done 61218 tasks      | elapsed:   18.3s\n",
      "[Parallel(n_jobs=-1)]: Done 64768 tasks      | elapsed:   19.3s\n",
      "[Parallel(n_jobs=-1)]: Done 68418 tasks      | elapsed:   20.4s\n",
      "[Parallel(n_jobs=-1)]: Done 72168 tasks      | elapsed:   21.5s\n",
      "[Parallel(n_jobs=-1)]: Done 76018 tasks      | elapsed:   22.6s\n",
      "[Parallel(n_jobs=-1)]: Done 79968 tasks      | elapsed:   23.7s\n",
      "[Parallel(n_jobs=-1)]: Done 84018 tasks      | elapsed:   24.8s\n",
      "[Parallel(n_jobs=-1)]: Done 88168 tasks      | elapsed:   26.0s\n",
      "[Parallel(n_jobs=-1)]: Done 92418 tasks      | elapsed:   27.2s\n",
      "[Parallel(n_jobs=-1)]: Done 96768 tasks      | elapsed:   28.5s\n",
      "[Parallel(n_jobs=-1)]: Done 101218 tasks      | elapsed:   29.8s\n",
      "[Parallel(n_jobs=-1)]: Done 105768 tasks      | elapsed:   31.2s\n",
      "[Parallel(n_jobs=-1)]: Done 110418 tasks      | elapsed:   32.4s\n",
      "[Parallel(n_jobs=-1)]: Done 115168 tasks      | elapsed:   33.7s\n",
      "[Parallel(n_jobs=-1)]: Done 120018 tasks      | elapsed:   35.1s\n",
      "[Parallel(n_jobs=-1)]: Done 124968 tasks      | elapsed:   36.4s\n",
      "[Parallel(n_jobs=-1)]: Done 130018 tasks      | elapsed:   37.8s\n",
      "[Parallel(n_jobs=-1)]: Done 135168 tasks      | elapsed:   39.2s\n",
      "[Parallel(n_jobs=-1)]: Done 140418 tasks      | elapsed:   40.6s\n",
      "[Parallel(n_jobs=-1)]: Done 145768 tasks      | elapsed:   42.1s\n",
      "[Parallel(n_jobs=-1)]: Done 151218 tasks      | elapsed:   43.6s\n",
      "[Parallel(n_jobs=-1)]: Done 156768 tasks      | elapsed:   45.1s\n",
      "[Parallel(n_jobs=-1)]: Done 162418 tasks      | elapsed:   46.7s\n",
      "[Parallel(n_jobs=-1)]: Done 168168 tasks      | elapsed:   48.3s\n",
      "[Parallel(n_jobs=-1)]: Done 174018 tasks      | elapsed:   49.8s\n",
      "[Parallel(n_jobs=-1)]: Done 179968 tasks      | elapsed:   51.4s\n",
      "[Parallel(n_jobs=-1)]: Done 186018 tasks      | elapsed:   53.1s\n",
      "[Parallel(n_jobs=-1)]: Done 192168 tasks      | elapsed:   54.8s\n",
      "[Parallel(n_jobs=-1)]: Done 198418 tasks      | elapsed:   56.5s\n",
      "[Parallel(n_jobs=-1)]: Done 204768 tasks      | elapsed:   58.2s\n",
      "[Parallel(n_jobs=-1)]: Done 211218 tasks      | elapsed:   59.9s\n",
      "[Parallel(n_jobs=-1)]: Done 217768 tasks      | elapsed:  1.0min\n",
      "[Parallel(n_jobs=-1)]: Done 224418 tasks      | elapsed:  1.1min\n",
      "[Parallel(n_jobs=-1)]: Done 231168 tasks      | elapsed:  1.1min\n",
      "[Parallel(n_jobs=-1)]: Done 238018 tasks      | elapsed:  1.1min\n",
      "[Parallel(n_jobs=-1)]: Done 244968 tasks      | elapsed:  1.2min\n",
      "[Parallel(n_jobs=-1)]: Done 252018 tasks      | elapsed:  1.2min\n",
      "[Parallel(n_jobs=-1)]: Done 259168 tasks      | elapsed:  1.2min\n",
      "[Parallel(n_jobs=-1)]: Done 266418 tasks      | elapsed:  1.2min\n",
      "[Parallel(n_jobs=-1)]: Done 273768 tasks      | elapsed:  1.3min\n",
      "[Parallel(n_jobs=-1)]: Done 281218 tasks      | elapsed:  1.3min\n",
      "[Parallel(n_jobs=-1)]: Done 288768 tasks      | elapsed:  1.3min\n",
      "[Parallel(n_jobs=-1)]: Done 296418 tasks      | elapsed:  1.4min\n",
      "[Parallel(n_jobs=-1)]: Done 304168 tasks      | elapsed:  1.4min\n",
      "[Parallel(n_jobs=-1)]: Done 312018 tasks      | elapsed:  1.5min\n",
      "[Parallel(n_jobs=-1)]: Done 319968 tasks      | elapsed:  1.5min\n",
      "[Parallel(n_jobs=-1)]: Done 328018 tasks      | elapsed:  1.5min\n",
      "[Parallel(n_jobs=-1)]: Done 336168 tasks      | elapsed:  1.6min\n",
      "[Parallel(n_jobs=-1)]: Done 344418 tasks      | elapsed:  1.6min\n",
      "[Parallel(n_jobs=-1)]: Done 352768 tasks      | elapsed:  1.6min\n",
      "[Parallel(n_jobs=-1)]: Done 361218 tasks      | elapsed:  1.7min\n",
      "[Parallel(n_jobs=-1)]: Done 369768 tasks      | elapsed:  1.7min\n",
      "[Parallel(n_jobs=-1)]: Done 378418 tasks      | elapsed:  1.8min\n",
      "[Parallel(n_jobs=-1)]: Done 387168 tasks      | elapsed:  1.8min\n",
      "[Parallel(n_jobs=-1)]: Done 396018 tasks      | elapsed:  1.8min\n",
      "[Parallel(n_jobs=-1)]: Done 404968 tasks      | elapsed:  1.9min\n",
      "[Parallel(n_jobs=-1)]: Done 414018 tasks      | elapsed:  1.9min\n",
      "[Parallel(n_jobs=-1)]: Done 423168 tasks      | elapsed:  2.0min\n",
      "[Parallel(n_jobs=-1)]: Done 432418 tasks      | elapsed:  2.0min\n",
      "[Parallel(n_jobs=-1)]: Done 441768 tasks      | elapsed:  2.0min\n",
      "[Parallel(n_jobs=-1)]: Done 451218 tasks      | elapsed:  2.1min\n",
      "[Parallel(n_jobs=-1)]: Done 460768 tasks      | elapsed:  2.1min\n",
      "[Parallel(n_jobs=-1)]: Done 470418 tasks      | elapsed:  2.2min\n",
      "[Parallel(n_jobs=-1)]: Done 480168 tasks      | elapsed:  2.2min\n",
      "[Parallel(n_jobs=-1)]: Done 490018 tasks      | elapsed:  2.3min\n",
      "[Parallel(n_jobs=-1)]: Done 499968 tasks      | elapsed:  2.3min\n",
      "[Parallel(n_jobs=-1)]: Done 510018 tasks      | elapsed:  2.3min\n",
      "[Parallel(n_jobs=-1)]: Done 520168 tasks      | elapsed:  2.4min\n",
      "[Parallel(n_jobs=-1)]: Done 530418 tasks      | elapsed:  2.4min\n",
      "[Parallel(n_jobs=-1)]: Done 540768 tasks      | elapsed:  2.5min\n",
      "[Parallel(n_jobs=-1)]: Done 551218 tasks      | elapsed:  2.5min\n",
      "[Parallel(n_jobs=-1)]: Done 561768 tasks      | elapsed:  2.6min\n",
      "[Parallel(n_jobs=-1)]: Done 572418 tasks      | elapsed:  2.6min\n",
      "[Parallel(n_jobs=-1)]: Done 583168 tasks      | elapsed:  2.7min\n",
      "[Parallel(n_jobs=-1)]: Done 594018 tasks      | elapsed:  2.7min\n",
      "[Parallel(n_jobs=-1)]: Done 604968 tasks      | elapsed:  2.8min\n",
      "[Parallel(n_jobs=-1)]: Done 616018 tasks      | elapsed:  2.8min\n",
      "[Parallel(n_jobs=-1)]: Done 627168 tasks      | elapsed:  2.9min\n",
      "[Parallel(n_jobs=-1)]: Done 638418 tasks      | elapsed:  2.9min\n",
      "[Parallel(n_jobs=-1)]: Done 649768 tasks      | elapsed:  3.0min\n",
      "[Parallel(n_jobs=-1)]: Done 661218 tasks      | elapsed:  3.0min\n",
      "[Parallel(n_jobs=-1)]: Done 672768 tasks      | elapsed:  3.1min\n",
      "[Parallel(n_jobs=-1)]: Done 684418 tasks      | elapsed:  3.1min\n",
      "[Parallel(n_jobs=-1)]: Done 696168 tasks      | elapsed:  3.2min\n",
      "[Parallel(n_jobs=-1)]: Done 708018 tasks      | elapsed:  3.2min\n",
      "[Parallel(n_jobs=-1)]: Done 719968 tasks      | elapsed:  3.3min\n",
      "[Parallel(n_jobs=-1)]: Done 732018 tasks      | elapsed:  3.3min\n",
      "[Parallel(n_jobs=-1)]: Done 744168 tasks      | elapsed:  3.4min\n",
      "[Parallel(n_jobs=-1)]: Done 756418 tasks      | elapsed:  3.5min\n",
      "[Parallel(n_jobs=-1)]: Done 768768 tasks      | elapsed:  3.5min\n",
      "[Parallel(n_jobs=-1)]: Done 781218 tasks      | elapsed:  3.6min\n",
      "[Parallel(n_jobs=-1)]: Done 793768 tasks      | elapsed:  3.6min\n",
      "[Parallel(n_jobs=-1)]: Done 806418 tasks      | elapsed:  3.7min\n",
      "[Parallel(n_jobs=-1)]: Done 819168 tasks      | elapsed:  3.7min\n",
      "[Parallel(n_jobs=-1)]: Done 832018 tasks      | elapsed:  3.8min\n",
      "[Parallel(n_jobs=-1)]: Done 844968 tasks      | elapsed:  3.9min\n",
      "[Parallel(n_jobs=-1)]: Done 858018 tasks      | elapsed:  3.9min\n",
      "[Parallel(n_jobs=-1)]: Done 871168 tasks      | elapsed:  4.0min\n",
      "[Parallel(n_jobs=-1)]: Done 884418 tasks      | elapsed:  4.0min\n",
      "[Parallel(n_jobs=-1)]: Done 897768 tasks      | elapsed:  4.1min\n",
      "[Parallel(n_jobs=-1)]: Done 911218 tasks      | elapsed:  4.2min\n",
      "[Parallel(n_jobs=-1)]: Done 924768 tasks      | elapsed:  4.2min\n",
      "[Parallel(n_jobs=-1)]: Done 938418 tasks      | elapsed:  4.3min\n",
      "[Parallel(n_jobs=-1)]: Done 952168 tasks      | elapsed:  4.4min\n",
      "[Parallel(n_jobs=-1)]: Done 966018 tasks      | elapsed:  4.4min\n",
      "[Parallel(n_jobs=-1)]: Done 979968 tasks      | elapsed:  4.5min\n",
      "[Parallel(n_jobs=-1)]: Done 994018 tasks      | elapsed:  4.5min\n",
      "[Parallel(n_jobs=-1)]: Done 1008168 tasks      | elapsed:  4.6min\n",
      "[Parallel(n_jobs=-1)]: Done 1022418 tasks      | elapsed:  4.7min\n",
      "[Parallel(n_jobs=-1)]: Done 1036768 tasks      | elapsed:  4.7min\n",
      "[Parallel(n_jobs=-1)]: Done 1051218 tasks      | elapsed:  4.8min\n",
      "[Parallel(n_jobs=-1)]: Done 1065768 tasks      | elapsed:  4.9min\n",
      "[Parallel(n_jobs=-1)]: Done 1080418 tasks      | elapsed:  4.9min\n",
      "[Parallel(n_jobs=-1)]: Done 1095168 tasks      | elapsed:  5.0min\n",
      "[Parallel(n_jobs=-1)]: Done 1110018 tasks      | elapsed:  5.1min\n",
      "[Parallel(n_jobs=-1)]: Done 1124968 tasks      | elapsed:  5.1min\n",
      "[Parallel(n_jobs=-1)]: Done 1140018 tasks      | elapsed:  5.2min\n",
      "[Parallel(n_jobs=-1)]: Done 1155168 tasks      | elapsed:  5.3min\n",
      "[Parallel(n_jobs=-1)]: Done 1170418 tasks      | elapsed:  5.3min\n",
      "[Parallel(n_jobs=-1)]: Done 1185768 tasks      | elapsed:  5.4min\n",
      "[Parallel(n_jobs=-1)]: Done 1201218 tasks      | elapsed:  5.5min\n",
      "[Parallel(n_jobs=-1)]: Done 1216768 tasks      | elapsed:  5.6min\n",
      "[Parallel(n_jobs=-1)]: Done 1232418 tasks      | elapsed:  5.6min\n",
      "[Parallel(n_jobs=-1)]: Done 1248168 tasks      | elapsed:  5.7min\n",
      "[Parallel(n_jobs=-1)]: Done 1264018 tasks      | elapsed:  5.8min\n",
      "[Parallel(n_jobs=-1)]: Done 1279968 tasks      | elapsed:  5.8min\n",
      "[Parallel(n_jobs=-1)]: Done 1296018 tasks      | elapsed:  5.9min\n",
      "[Parallel(n_jobs=-1)]: Done 1312168 tasks      | elapsed:  6.0min\n",
      "[Parallel(n_jobs=-1)]: Done 1328418 tasks      | elapsed:  6.1min\n",
      "[Parallel(n_jobs=-1)]: Done 1344768 tasks      | elapsed:  6.1min\n",
      "[Parallel(n_jobs=-1)]: Done 1361218 tasks      | elapsed:  6.2min\n",
      "[Parallel(n_jobs=-1)]: Done 1377768 tasks      | elapsed:  6.3min\n",
      "[Parallel(n_jobs=-1)]: Done 1394418 tasks      | elapsed:  6.4min\n",
      "[Parallel(n_jobs=-1)]: Done 1411168 tasks      | elapsed:  6.4min\n",
      "[Parallel(n_jobs=-1)]: Done 1428018 tasks      | elapsed:  6.5min\n",
      "[Parallel(n_jobs=-1)]: Done 1444968 tasks      | elapsed:  6.6min\n",
      "[Parallel(n_jobs=-1)]: Done 1462018 tasks      | elapsed:  6.7min\n",
      "[Parallel(n_jobs=-1)]: Done 1479168 tasks      | elapsed:  6.7min\n",
      "[Parallel(n_jobs=-1)]: Done 1496418 tasks      | elapsed:  6.8min\n",
      "[Parallel(n_jobs=-1)]: Done 1513768 tasks      | elapsed:  6.9min\n",
      "[Parallel(n_jobs=-1)]: Done 1531218 tasks      | elapsed:  7.0min\n",
      "[Parallel(n_jobs=-1)]: Done 1548768 tasks      | elapsed:  7.1min\n",
      "[Parallel(n_jobs=-1)]: Done 1566418 tasks      | elapsed:  7.1min\n",
      "[Parallel(n_jobs=-1)]: Done 1584168 tasks      | elapsed:  7.2min\n",
      "[Parallel(n_jobs=-1)]: Done 1592220 out of 1592220 | elapsed:  7.3min finished\n"
     ]
    },
    {
     "name": "stdout",
     "output_type": "stream",
     "text": [
      "171.685 --> 93.582 --> 87.426 --> 84.452 --> 84.058 --> 84.240 --> 84.460 --> 84.723 --> 85.195 --> 85.759 --> 86.371 --> 86.987 --> 87.035 --> 84.616 --> 82.200 --> 80.316 --> 76.300 --> 72.969 --> 72.135 --> 71.885 --> 71.856 --> 71.856 --> \n"
     ]
    }
   ],
   "source": [
    "kt = KernelKMeans(n_clusters=5, verbose=True, random_state=55, n_jobs=-1)\n",
    "y_pred_kt = kt.fit_predict(timeseries)"
   ]
  },
  {
   "cell_type": "code",
   "execution_count": null,
   "metadata": {},
   "outputs": [],
   "source": [
    "D_id_color = {0: u'orchid', 1: u'darkcyan', 2: u'grey', 3 : u'dodgerblue', 4: u'turquoise'}\n",
    "\n",
    "for i in range(len(groups))\n",
    "    color_map = [color for color in D_id_color.values()]\n",
    "    plt.plot(groups.iloc[i,1], c=color_map)\n",
    "plt.savefig('pic.png', dpi=100)\n",
    "plt.show()\n"
   ]
  },
  {
   "cell_type": "code",
   "execution_count": 31,
   "metadata": {},
   "outputs": [],
   "source": [
    "groups['y_pred_km'] = y_pred_km\n",
    "groups['y_pred_kt'] = y_pred_kt\n",
    "final = groups.drop([\"Seasonality\"], axis=1)"
   ]
  },
  {
   "cell_type": "code",
   "execution_count": 47,
   "metadata": {},
   "outputs": [],
   "source": [
    "final.to_csv('clusters.csv', index=[0], sep=\",\")"
   ]
  },
  {
   "cell_type": "code",
   "execution_count": 33,
   "metadata": {},
   "outputs": [],
   "source": [
    "test = groups.explode(\"Seasonality\")\n"
   ]
  },
  {
   "cell_type": "code",
   "execution_count": 45,
   "metadata": {},
   "outputs": [],
   "source": [
    "final = pd.merge(df, groups[['Item', 'y_pred_km', 'y_pred_kt']], on = 'Item', how='left')"
   ]
  },
  {
   "cell_type": "code",
   "execution_count": 48,
   "metadata": {},
   "outputs": [
    {
     "data": {
      "text/html": [
       "<div>\n",
       "<style scoped>\n",
       "    .dataframe tbody tr th:only-of-type {\n",
       "        vertical-align: middle;\n",
       "    }\n",
       "\n",
       "    .dataframe tbody tr th {\n",
       "        vertical-align: top;\n",
       "    }\n",
       "\n",
       "    .dataframe thead th {\n",
       "        text-align: right;\n",
       "    }\n",
       "</style>\n",
       "<table border=\"1\" class=\"dataframe\">\n",
       "  <thead>\n",
       "    <tr style=\"text-align: right;\">\n",
       "      <th></th>\n",
       "      <th>Item</th>\n",
       "      <th>Seasonality</th>\n",
       "      <th>y_pred_km</th>\n",
       "      <th>y_pred_kt</th>\n",
       "    </tr>\n",
       "  </thead>\n",
       "  <tbody>\n",
       "    <tr>\n",
       "      <th>0</th>\n",
       "      <td>FAO002</td>\n",
       "      <td>[0.0, 0.0, 0.0, 0.0, 0.0, 0.0, 0.0, 0.0, 0.0, ...</td>\n",
       "      <td>4</td>\n",
       "      <td>3</td>\n",
       "    </tr>\n",
       "    <tr>\n",
       "      <th>1</th>\n",
       "      <td>FAO003</td>\n",
       "      <td>[0.0, 0.0, 0.0, 0.0, 0.0, 0.0, 0.0, 0.0, 0.0, ...</td>\n",
       "      <td>4</td>\n",
       "      <td>3</td>\n",
       "    </tr>\n",
       "    <tr>\n",
       "      <th>2</th>\n",
       "      <td>FAO004</td>\n",
       "      <td>[0.0, 0.0, 0.0, 0.0, 0.0, 0.0, 0.0, 0.0, 0.0, ...</td>\n",
       "      <td>4</td>\n",
       "      <td>3</td>\n",
       "    </tr>\n",
       "    <tr>\n",
       "      <th>3</th>\n",
       "      <td>FAO005</td>\n",
       "      <td>[0.0, 0.0, 0.0, 0.0, 0.0, 0.0, 0.0, 0.0, 0.0, ...</td>\n",
       "      <td>4</td>\n",
       "      <td>3</td>\n",
       "    </tr>\n",
       "    <tr>\n",
       "      <th>4</th>\n",
       "      <td>FAO006</td>\n",
       "      <td>[0.0, 0.0, 0.0, 0.0, 0.0, 0.0, 0.0, 0.0, 0.0, ...</td>\n",
       "      <td>4</td>\n",
       "      <td>3</td>\n",
       "    </tr>\n",
       "    <tr>\n",
       "      <th>...</th>\n",
       "      <td>...</td>\n",
       "      <td>...</td>\n",
       "      <td>...</td>\n",
       "      <td>...</td>\n",
       "    </tr>\n",
       "    <tr>\n",
       "      <th>1779</th>\n",
       "      <td>TPK001</td>\n",
       "      <td>[0.0238095238095238, 0.0158730158730159, 0.0, ...</td>\n",
       "      <td>3</td>\n",
       "      <td>1</td>\n",
       "    </tr>\n",
       "    <tr>\n",
       "      <th>1780</th>\n",
       "      <td>TPK002</td>\n",
       "      <td>[0.0166666666666667, 0.00555555555555556, 0.0,...</td>\n",
       "      <td>3</td>\n",
       "      <td>1</td>\n",
       "    </tr>\n",
       "    <tr>\n",
       "      <th>1781</th>\n",
       "      <td>TPK003</td>\n",
       "      <td>[0.0184049079754601, 0.0, 0.0, 0.0122699386503...</td>\n",
       "      <td>3</td>\n",
       "      <td>1</td>\n",
       "    </tr>\n",
       "    <tr>\n",
       "      <th>1782</th>\n",
       "      <td>TPK004</td>\n",
       "      <td>[0.0, 0.0, 0.0, 0.0, 0.0, 0.0, 0.0, 0.0, 0.0, ...</td>\n",
       "      <td>3</td>\n",
       "      <td>3</td>\n",
       "    </tr>\n",
       "    <tr>\n",
       "      <th>1783</th>\n",
       "      <td>TPV001</td>\n",
       "      <td>[0.00626959247648903, 0.0188087774294671, 0.0,...</td>\n",
       "      <td>3</td>\n",
       "      <td>3</td>\n",
       "    </tr>\n",
       "  </tbody>\n",
       "</table>\n",
       "<p>1784 rows × 4 columns</p>\n",
       "</div>"
      ],
      "text/plain": [
       "        Item                                        Seasonality  y_pred_km  \\\n",
       "0     FAO002  [0.0, 0.0, 0.0, 0.0, 0.0, 0.0, 0.0, 0.0, 0.0, ...          4   \n",
       "1     FAO003  [0.0, 0.0, 0.0, 0.0, 0.0, 0.0, 0.0, 0.0, 0.0, ...          4   \n",
       "2     FAO004  [0.0, 0.0, 0.0, 0.0, 0.0, 0.0, 0.0, 0.0, 0.0, ...          4   \n",
       "3     FAO005  [0.0, 0.0, 0.0, 0.0, 0.0, 0.0, 0.0, 0.0, 0.0, ...          4   \n",
       "4     FAO006  [0.0, 0.0, 0.0, 0.0, 0.0, 0.0, 0.0, 0.0, 0.0, ...          4   \n",
       "...      ...                                                ...        ...   \n",
       "1779  TPK001  [0.0238095238095238, 0.0158730158730159, 0.0, ...          3   \n",
       "1780  TPK002  [0.0166666666666667, 0.00555555555555556, 0.0,...          3   \n",
       "1781  TPK003  [0.0184049079754601, 0.0, 0.0, 0.0122699386503...          3   \n",
       "1782  TPK004  [0.0, 0.0, 0.0, 0.0, 0.0, 0.0, 0.0, 0.0, 0.0, ...          3   \n",
       "1783  TPV001  [0.00626959247648903, 0.0188087774294671, 0.0,...          3   \n",
       "\n",
       "      y_pred_kt  \n",
       "0             3  \n",
       "1             3  \n",
       "2             3  \n",
       "3             3  \n",
       "4             3  \n",
       "...         ...  \n",
       "1779          1  \n",
       "1780          1  \n",
       "1781          1  \n",
       "1782          3  \n",
       "1783          3  \n",
       "\n",
       "[1784 rows x 4 columns]"
      ]
     },
     "execution_count": 48,
     "metadata": {},
     "output_type": "execute_result"
    }
   ],
   "source": [
    "groups"
   ]
  },
  {
   "cell_type": "code",
   "execution_count": null,
   "metadata": {},
   "outputs": [],
   "source": []
  }
 ],
 "metadata": {
  "kernelspec": {
   "display_name": "Python 3.9.12 ('arima')",
   "language": "python",
   "name": "python3"
  },
  "language_info": {
   "codemirror_mode": {
    "name": "ipython",
    "version": 3
   },
   "file_extension": ".py",
   "mimetype": "text/x-python",
   "name": "python",
   "nbconvert_exporter": "python",
   "pygments_lexer": "ipython3",
   "version": "3.9.12"
  },
  "orig_nbformat": 4,
  "vscode": {
   "interpreter": {
    "hash": "cbe159083db681382650ba5382eb3ad5eb6c390ec5db4d4466260f82d4eb7dfd"
   }
  }
 },
 "nbformat": 4,
 "nbformat_minor": 2
}
